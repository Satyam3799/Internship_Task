{
 "cells": [
  {
   "cell_type": "markdown",
   "id": "d35b79db-2a52-4efd-93ef-dfb3c16b2d05",
   "metadata": {},
   "source": [
    "# Task 1: Data Cleaning & Preprocessing\n",
    "## ‣ Objective: Learn how to clean and prepare raw data for ML.\n",
    "\n",
    "## ✅ Tools used:- \n",
    "### ● Pandas for data manipulation\n",
    "### ● NumPy for numerical operations\n",
    "### ● Matplotlib/Seaborn for visualizations"
   ]
  },
  {
   "cell_type": "markdown",
   "id": "1185e699-2c13-4a9d-80df-0e690bbb5834",
   "metadata": {},
   "source": [
    "## Import the required library\n"
   ]
  },
  {
   "cell_type": "code",
   "execution_count": 1,
   "id": "f754a870-9309-4030-8291-801824159513",
   "metadata": {},
   "outputs": [],
   "source": [
    "# import numerical python for performing operations on different data structure.\n",
    "import numpy as np \n",
    "\n",
    "# import pandas for converting different file format into pandas dataframe.\n",
    "import pandas as pd\n",
    "\n",
    "# import seaborn and matplotlib for creating interactive visualization.\n",
    "import seaborn as sns\n",
    "import matplotlib.pyplot as plt\n"
   ]
  },
  {
   "cell_type": "markdown",
   "id": "57a288cf-b15d-4e19-a28a-a2d6224d52bb",
   "metadata": {},
   "source": [
    "## Load the data"
   ]
  },
  {
   "cell_type": "code",
   "execution_count": 2,
   "id": "1b491707-f902-4f62-bf8a-44acbd36a5cc",
   "metadata": {},
   "outputs": [],
   "source": [
    "# Load the data from local\n",
    "df_Titanic_Dataset = pd.read_csv(\"Titanic-Dataset.csv\")"
   ]
  },
  {
   "cell_type": "code",
   "execution_count": 3,
   "id": "b5f03d95-9d50-413a-8331-4dde6bdc6f3c",
   "metadata": {},
   "outputs": [
    {
     "data": {
      "text/html": [
       "<div>\n",
       "<style scoped>\n",
       "    .dataframe tbody tr th:only-of-type {\n",
       "        vertical-align: middle;\n",
       "    }\n",
       "\n",
       "    .dataframe tbody tr th {\n",
       "        vertical-align: top;\n",
       "    }\n",
       "\n",
       "    .dataframe thead th {\n",
       "        text-align: right;\n",
       "    }\n",
       "</style>\n",
       "<table border=\"1\" class=\"dataframe\">\n",
       "  <thead>\n",
       "    <tr style=\"text-align: right;\">\n",
       "      <th></th>\n",
       "      <th>PassengerId</th>\n",
       "      <th>Survived</th>\n",
       "      <th>Pclass</th>\n",
       "      <th>Name</th>\n",
       "      <th>Sex</th>\n",
       "      <th>Age</th>\n",
       "      <th>SibSp</th>\n",
       "      <th>Parch</th>\n",
       "      <th>Ticket</th>\n",
       "      <th>Fare</th>\n",
       "      <th>Cabin</th>\n",
       "      <th>Embarked</th>\n",
       "    </tr>\n",
       "  </thead>\n",
       "  <tbody>\n",
       "    <tr>\n",
       "      <th>0</th>\n",
       "      <td>1</td>\n",
       "      <td>0</td>\n",
       "      <td>3</td>\n",
       "      <td>Braund, Mr. Owen Harris</td>\n",
       "      <td>male</td>\n",
       "      <td>22.0</td>\n",
       "      <td>1</td>\n",
       "      <td>0</td>\n",
       "      <td>A/5 21171</td>\n",
       "      <td>7.2500</td>\n",
       "      <td>NaN</td>\n",
       "      <td>S</td>\n",
       "    </tr>\n",
       "    <tr>\n",
       "      <th>1</th>\n",
       "      <td>2</td>\n",
       "      <td>1</td>\n",
       "      <td>1</td>\n",
       "      <td>Cumings, Mrs. John Bradley (Florence Briggs Th...</td>\n",
       "      <td>female</td>\n",
       "      <td>38.0</td>\n",
       "      <td>1</td>\n",
       "      <td>0</td>\n",
       "      <td>PC 17599</td>\n",
       "      <td>71.2833</td>\n",
       "      <td>C85</td>\n",
       "      <td>C</td>\n",
       "    </tr>\n",
       "    <tr>\n",
       "      <th>2</th>\n",
       "      <td>3</td>\n",
       "      <td>1</td>\n",
       "      <td>3</td>\n",
       "      <td>Heikkinen, Miss. Laina</td>\n",
       "      <td>female</td>\n",
       "      <td>26.0</td>\n",
       "      <td>0</td>\n",
       "      <td>0</td>\n",
       "      <td>STON/O2. 3101282</td>\n",
       "      <td>7.9250</td>\n",
       "      <td>NaN</td>\n",
       "      <td>S</td>\n",
       "    </tr>\n",
       "    <tr>\n",
       "      <th>3</th>\n",
       "      <td>4</td>\n",
       "      <td>1</td>\n",
       "      <td>1</td>\n",
       "      <td>Futrelle, Mrs. Jacques Heath (Lily May Peel)</td>\n",
       "      <td>female</td>\n",
       "      <td>35.0</td>\n",
       "      <td>1</td>\n",
       "      <td>0</td>\n",
       "      <td>113803</td>\n",
       "      <td>53.1000</td>\n",
       "      <td>C123</td>\n",
       "      <td>S</td>\n",
       "    </tr>\n",
       "    <tr>\n",
       "      <th>4</th>\n",
       "      <td>5</td>\n",
       "      <td>0</td>\n",
       "      <td>3</td>\n",
       "      <td>Allen, Mr. William Henry</td>\n",
       "      <td>male</td>\n",
       "      <td>35.0</td>\n",
       "      <td>0</td>\n",
       "      <td>0</td>\n",
       "      <td>373450</td>\n",
       "      <td>8.0500</td>\n",
       "      <td>NaN</td>\n",
       "      <td>S</td>\n",
       "    </tr>\n",
       "  </tbody>\n",
       "</table>\n",
       "</div>"
      ],
      "text/plain": [
       "   PassengerId  Survived  Pclass  \\\n",
       "0            1         0       3   \n",
       "1            2         1       1   \n",
       "2            3         1       3   \n",
       "3            4         1       1   \n",
       "4            5         0       3   \n",
       "\n",
       "                                                Name     Sex   Age  SibSp  \\\n",
       "0                            Braund, Mr. Owen Harris    male  22.0      1   \n",
       "1  Cumings, Mrs. John Bradley (Florence Briggs Th...  female  38.0      1   \n",
       "2                             Heikkinen, Miss. Laina  female  26.0      0   \n",
       "3       Futrelle, Mrs. Jacques Heath (Lily May Peel)  female  35.0      1   \n",
       "4                           Allen, Mr. William Henry    male  35.0      0   \n",
       "\n",
       "   Parch            Ticket     Fare Cabin Embarked  \n",
       "0      0         A/5 21171   7.2500   NaN        S  \n",
       "1      0          PC 17599  71.2833   C85        C  \n",
       "2      0  STON/O2. 3101282   7.9250   NaN        S  \n",
       "3      0            113803  53.1000  C123        S  \n",
       "4      0            373450   8.0500   NaN        S  "
      ]
     },
     "execution_count": 3,
     "metadata": {},
     "output_type": "execute_result"
    }
   ],
   "source": [
    "# Check the first five observation from data\n",
    "df_Titanic_Dataset.head()"
   ]
  },
  {
   "cell_type": "code",
   "execution_count": 4,
   "id": "046df623-4c81-4d8c-8a23-9cd5dba18ab7",
   "metadata": {},
   "outputs": [
    {
     "data": {
      "text/html": [
       "<div>\n",
       "<style scoped>\n",
       "    .dataframe tbody tr th:only-of-type {\n",
       "        vertical-align: middle;\n",
       "    }\n",
       "\n",
       "    .dataframe tbody tr th {\n",
       "        vertical-align: top;\n",
       "    }\n",
       "\n",
       "    .dataframe thead th {\n",
       "        text-align: right;\n",
       "    }\n",
       "</style>\n",
       "<table border=\"1\" class=\"dataframe\">\n",
       "  <thead>\n",
       "    <tr style=\"text-align: right;\">\n",
       "      <th></th>\n",
       "      <th>PassengerId</th>\n",
       "      <th>Survived</th>\n",
       "      <th>Pclass</th>\n",
       "      <th>Name</th>\n",
       "      <th>Sex</th>\n",
       "      <th>Age</th>\n",
       "      <th>SibSp</th>\n",
       "      <th>Parch</th>\n",
       "      <th>Ticket</th>\n",
       "      <th>Fare</th>\n",
       "      <th>Cabin</th>\n",
       "      <th>Embarked</th>\n",
       "    </tr>\n",
       "  </thead>\n",
       "  <tbody>\n",
       "    <tr>\n",
       "      <th>886</th>\n",
       "      <td>887</td>\n",
       "      <td>0</td>\n",
       "      <td>2</td>\n",
       "      <td>Montvila, Rev. Juozas</td>\n",
       "      <td>male</td>\n",
       "      <td>27.0</td>\n",
       "      <td>0</td>\n",
       "      <td>0</td>\n",
       "      <td>211536</td>\n",
       "      <td>13.00</td>\n",
       "      <td>NaN</td>\n",
       "      <td>S</td>\n",
       "    </tr>\n",
       "    <tr>\n",
       "      <th>887</th>\n",
       "      <td>888</td>\n",
       "      <td>1</td>\n",
       "      <td>1</td>\n",
       "      <td>Graham, Miss. Margaret Edith</td>\n",
       "      <td>female</td>\n",
       "      <td>19.0</td>\n",
       "      <td>0</td>\n",
       "      <td>0</td>\n",
       "      <td>112053</td>\n",
       "      <td>30.00</td>\n",
       "      <td>B42</td>\n",
       "      <td>S</td>\n",
       "    </tr>\n",
       "    <tr>\n",
       "      <th>888</th>\n",
       "      <td>889</td>\n",
       "      <td>0</td>\n",
       "      <td>3</td>\n",
       "      <td>Johnston, Miss. Catherine Helen \"Carrie\"</td>\n",
       "      <td>female</td>\n",
       "      <td>NaN</td>\n",
       "      <td>1</td>\n",
       "      <td>2</td>\n",
       "      <td>W./C. 6607</td>\n",
       "      <td>23.45</td>\n",
       "      <td>NaN</td>\n",
       "      <td>S</td>\n",
       "    </tr>\n",
       "    <tr>\n",
       "      <th>889</th>\n",
       "      <td>890</td>\n",
       "      <td>1</td>\n",
       "      <td>1</td>\n",
       "      <td>Behr, Mr. Karl Howell</td>\n",
       "      <td>male</td>\n",
       "      <td>26.0</td>\n",
       "      <td>0</td>\n",
       "      <td>0</td>\n",
       "      <td>111369</td>\n",
       "      <td>30.00</td>\n",
       "      <td>C148</td>\n",
       "      <td>C</td>\n",
       "    </tr>\n",
       "    <tr>\n",
       "      <th>890</th>\n",
       "      <td>891</td>\n",
       "      <td>0</td>\n",
       "      <td>3</td>\n",
       "      <td>Dooley, Mr. Patrick</td>\n",
       "      <td>male</td>\n",
       "      <td>32.0</td>\n",
       "      <td>0</td>\n",
       "      <td>0</td>\n",
       "      <td>370376</td>\n",
       "      <td>7.75</td>\n",
       "      <td>NaN</td>\n",
       "      <td>Q</td>\n",
       "    </tr>\n",
       "  </tbody>\n",
       "</table>\n",
       "</div>"
      ],
      "text/plain": [
       "     PassengerId  Survived  Pclass                                      Name  \\\n",
       "886          887         0       2                     Montvila, Rev. Juozas   \n",
       "887          888         1       1              Graham, Miss. Margaret Edith   \n",
       "888          889         0       3  Johnston, Miss. Catherine Helen \"Carrie\"   \n",
       "889          890         1       1                     Behr, Mr. Karl Howell   \n",
       "890          891         0       3                       Dooley, Mr. Patrick   \n",
       "\n",
       "        Sex   Age  SibSp  Parch      Ticket   Fare Cabin Embarked  \n",
       "886    male  27.0      0      0      211536  13.00   NaN        S  \n",
       "887  female  19.0      0      0      112053  30.00   B42        S  \n",
       "888  female   NaN      1      2  W./C. 6607  23.45   NaN        S  \n",
       "889    male  26.0      0      0      111369  30.00  C148        C  \n",
       "890    male  32.0      0      0      370376   7.75   NaN        Q  "
      ]
     },
     "execution_count": 4,
     "metadata": {},
     "output_type": "execute_result"
    }
   ],
   "source": [
    "# Check the last 5 observation \n",
    "df_Titanic_Dataset.tail()"
   ]
  },
  {
   "cell_type": "markdown",
   "id": "0d702742-c665-4c71-8386-096852bfa003",
   "metadata": {},
   "source": [
    "## Data Overview"
   ]
  },
  {
   "cell_type": "code",
   "execution_count": 5,
   "id": "b35ed783-a1fb-45fb-a91b-a798e3a0df80",
   "metadata": {},
   "outputs": [
    {
     "data": {
      "text/plain": [
       "Index(['PassengerId', 'Survived', 'Pclass', 'Name', 'Sex', 'Age', 'SibSp',\n",
       "       'Parch', 'Ticket', 'Fare', 'Cabin', 'Embarked'],\n",
       "      dtype='object')"
      ]
     },
     "execution_count": 5,
     "metadata": {},
     "output_type": "execute_result"
    }
   ],
   "source": [
    "# checks the columns we have into the data\n",
    "df_Titanic_Dataset.columns"
   ]
  },
  {
   "cell_type": "markdown",
   "id": "4465ed88-f320-4175-ab5e-77282a5ff66d",
   "metadata": {},
   "source": [
    "### 📘 Interpretation of Titanic Dataset Variables\n",
    "\n",
    "- **PassengerId**  \n",
    "  A unique identifier assigned to each passenger in the dataset.\n",
    "\n",
    "- **Survived**  \n",
    "  Survival status of the passenger  \n",
    "  `0 = Did not survive`, `1 = Survived`\n",
    "\n",
    "- **Pclass**  \n",
    "  Passenger class indicating socio-economic status  \n",
    "  `1 = Upper`, `2 = Middle`, `3 = Lower`\n",
    "\n",
    "- **Name**  \n",
    "  Full name of the passenger, often includes title (e.g., Mr., Mrs., Miss).\n",
    "\n",
    "- **Sex**  \n",
    "  Gender of the passenger (`Male` or `Female`).\n",
    "\n",
    "- **Age**  \n",
    "  Age of the passenger in years. Children may have fractional values (e.g., `0.5 = 6 months old`).\n",
    "\n",
    "- **SibSp** *(Siblings/Spouses Aboard)*  \n",
    "  Number of siblings or spouses the passenger had aboard the Titanic.\n",
    "\n",
    "- **Parch** *(Parents/Children Aboard)*  \n",
    "  Number of parents or children the passenger had aboard the Titanic.\n",
    "\n",
    "- **Ticket**  \n",
    "  Ticket number used for traveling; may indicate group or family bookings.\n",
    "\n",
    "- **Fare**  \n",
    "  The amount of money paid for the ticket (in British Pounds).\n",
    "\n",
    "- **Cabin**  \n",
    "  Cabin number/letter the passenger stayed in. Often missing in the dataset.\n",
    "\n",
    "- **Embarked**  \n",
    "  Port where the passenger boarded the Titanic  \n",
    "  `C = Cherbourg`, `Q = Queenstown`, `S = Southampton`\n"
   ]
  },
  {
   "cell_type": "code",
   "execution_count": 6,
   "id": "26089501-4a33-405a-88d4-443f23d07e8b",
   "metadata": {},
   "outputs": [
    {
     "data": {
      "text/plain": [
       "(891, 12)"
      ]
     },
     "execution_count": 6,
     "metadata": {},
     "output_type": "execute_result"
    }
   ],
   "source": [
    "# Check the shape of data\n",
    "df_Titanic_Dataset.shape"
   ]
  },
  {
   "cell_type": "markdown",
   "id": "d31b73ef-34f0-4d07-99db-5381987cd74a",
   "metadata": {},
   "source": [
    "**Interpretation**\n",
    " - we have 891 observation and 12 attributes"
   ]
  },
  {
   "cell_type": "code",
   "execution_count": 7,
   "id": "d7f45e39-f66a-437b-98c0-daaf89b0d644",
   "metadata": {},
   "outputs": [
    {
     "name": "stdout",
     "output_type": "stream",
     "text": [
      "<class 'pandas.core.frame.DataFrame'>\n",
      "RangeIndex: 891 entries, 0 to 890\n",
      "Data columns (total 12 columns):\n",
      " #   Column       Non-Null Count  Dtype  \n",
      "---  ------       --------------  -----  \n",
      " 0   PassengerId  891 non-null    int64  \n",
      " 1   Survived     891 non-null    int64  \n",
      " 2   Pclass       891 non-null    int64  \n",
      " 3   Name         891 non-null    object \n",
      " 4   Sex          891 non-null    object \n",
      " 5   Age          714 non-null    float64\n",
      " 6   SibSp        891 non-null    int64  \n",
      " 7   Parch        891 non-null    int64  \n",
      " 8   Ticket       891 non-null    object \n",
      " 9   Fare         891 non-null    float64\n",
      " 10  Cabin        204 non-null    object \n",
      " 11  Embarked     889 non-null    object \n",
      "dtypes: float64(2), int64(5), object(5)\n",
      "memory usage: 83.7+ KB\n"
     ]
    }
   ],
   "source": [
    "# Check the basic info \n",
    "df_Titanic_Dataset.info()"
   ]
  },
  {
   "cell_type": "markdown",
   "id": "73739b78-5601-4831-9242-a863e0a334f2",
   "metadata": {},
   "source": [
    "**Interpretation**\n",
    " - We have 7 numerical columns and 5 categorical columns\n",
    " - This data acquires 83.7+ kb space. "
   ]
  },
  {
   "cell_type": "code",
   "execution_count": 8,
   "id": "84786517-01e1-478c-926c-fb26a4697a18",
   "metadata": {},
   "outputs": [
    {
     "data": {
      "text/html": [
       "<div>\n",
       "<style scoped>\n",
       "    .dataframe tbody tr th:only-of-type {\n",
       "        vertical-align: middle;\n",
       "    }\n",
       "\n",
       "    .dataframe tbody tr th {\n",
       "        vertical-align: top;\n",
       "    }\n",
       "\n",
       "    .dataframe thead th {\n",
       "        text-align: right;\n",
       "    }\n",
       "</style>\n",
       "<table border=\"1\" class=\"dataframe\">\n",
       "  <thead>\n",
       "    <tr style=\"text-align: right;\">\n",
       "      <th></th>\n",
       "      <th>count</th>\n",
       "      <th>mean</th>\n",
       "      <th>std</th>\n",
       "      <th>min</th>\n",
       "      <th>25%</th>\n",
       "      <th>50%</th>\n",
       "      <th>75%</th>\n",
       "      <th>max</th>\n",
       "    </tr>\n",
       "  </thead>\n",
       "  <tbody>\n",
       "    <tr>\n",
       "      <th>PassengerId</th>\n",
       "      <td>891.0</td>\n",
       "      <td>446.000000</td>\n",
       "      <td>257.353842</td>\n",
       "      <td>1.00</td>\n",
       "      <td>223.5000</td>\n",
       "      <td>446.0000</td>\n",
       "      <td>668.5</td>\n",
       "      <td>891.0000</td>\n",
       "    </tr>\n",
       "    <tr>\n",
       "      <th>Survived</th>\n",
       "      <td>891.0</td>\n",
       "      <td>0.383838</td>\n",
       "      <td>0.486592</td>\n",
       "      <td>0.00</td>\n",
       "      <td>0.0000</td>\n",
       "      <td>0.0000</td>\n",
       "      <td>1.0</td>\n",
       "      <td>1.0000</td>\n",
       "    </tr>\n",
       "    <tr>\n",
       "      <th>Pclass</th>\n",
       "      <td>891.0</td>\n",
       "      <td>2.308642</td>\n",
       "      <td>0.836071</td>\n",
       "      <td>1.00</td>\n",
       "      <td>2.0000</td>\n",
       "      <td>3.0000</td>\n",
       "      <td>3.0</td>\n",
       "      <td>3.0000</td>\n",
       "    </tr>\n",
       "    <tr>\n",
       "      <th>Age</th>\n",
       "      <td>714.0</td>\n",
       "      <td>29.699118</td>\n",
       "      <td>14.526497</td>\n",
       "      <td>0.42</td>\n",
       "      <td>20.1250</td>\n",
       "      <td>28.0000</td>\n",
       "      <td>38.0</td>\n",
       "      <td>80.0000</td>\n",
       "    </tr>\n",
       "    <tr>\n",
       "      <th>SibSp</th>\n",
       "      <td>891.0</td>\n",
       "      <td>0.523008</td>\n",
       "      <td>1.102743</td>\n",
       "      <td>0.00</td>\n",
       "      <td>0.0000</td>\n",
       "      <td>0.0000</td>\n",
       "      <td>1.0</td>\n",
       "      <td>8.0000</td>\n",
       "    </tr>\n",
       "    <tr>\n",
       "      <th>Parch</th>\n",
       "      <td>891.0</td>\n",
       "      <td>0.381594</td>\n",
       "      <td>0.806057</td>\n",
       "      <td>0.00</td>\n",
       "      <td>0.0000</td>\n",
       "      <td>0.0000</td>\n",
       "      <td>0.0</td>\n",
       "      <td>6.0000</td>\n",
       "    </tr>\n",
       "    <tr>\n",
       "      <th>Fare</th>\n",
       "      <td>891.0</td>\n",
       "      <td>32.204208</td>\n",
       "      <td>49.693429</td>\n",
       "      <td>0.00</td>\n",
       "      <td>7.9104</td>\n",
       "      <td>14.4542</td>\n",
       "      <td>31.0</td>\n",
       "      <td>512.3292</td>\n",
       "    </tr>\n",
       "  </tbody>\n",
       "</table>\n",
       "</div>"
      ],
      "text/plain": [
       "             count        mean         std   min       25%       50%    75%  \\\n",
       "PassengerId  891.0  446.000000  257.353842  1.00  223.5000  446.0000  668.5   \n",
       "Survived     891.0    0.383838    0.486592  0.00    0.0000    0.0000    1.0   \n",
       "Pclass       891.0    2.308642    0.836071  1.00    2.0000    3.0000    3.0   \n",
       "Age          714.0   29.699118   14.526497  0.42   20.1250   28.0000   38.0   \n",
       "SibSp        891.0    0.523008    1.102743  0.00    0.0000    0.0000    1.0   \n",
       "Parch        891.0    0.381594    0.806057  0.00    0.0000    0.0000    0.0   \n",
       "Fare         891.0   32.204208   49.693429  0.00    7.9104   14.4542   31.0   \n",
       "\n",
       "                  max  \n",
       "PassengerId  891.0000  \n",
       "Survived       1.0000  \n",
       "Pclass         3.0000  \n",
       "Age           80.0000  \n",
       "SibSp          8.0000  \n",
       "Parch          6.0000  \n",
       "Fare         512.3292  "
      ]
     },
     "execution_count": 8,
     "metadata": {},
     "output_type": "execute_result"
    }
   ],
   "source": [
    "# Check for basics statistics \n",
    "df_Titanic_Dataset.describe().T"
   ]
  },
  {
   "cell_type": "markdown",
   "id": "b48b8f11-95e0-4ba2-9838-03eacf021191",
   "metadata": {},
   "source": [
    "## Data Preprocessing"
   ]
  },
  {
   "cell_type": "markdown",
   "id": "de608bb4-9302-4b53-beb3-4211aaa02bb0",
   "metadata": {},
   "source": [
    "### Data Cleaning"
   ]
  },
  {
   "cell_type": "code",
   "execution_count": 9,
   "id": "5ed1b246-bf10-4a4e-9f2c-de604a46a583",
   "metadata": {},
   "outputs": [
    {
     "data": {
      "text/plain": [
       "Index(['PassengerId', 'Survived', 'Pclass', 'Name', 'Sex', 'Age', 'SibSp',\n",
       "       'Parch', 'Ticket', 'Fare', 'Cabin', 'Embarked'],\n",
       "      dtype='object')"
      ]
     },
     "execution_count": 9,
     "metadata": {},
     "output_type": "execute_result"
    }
   ],
   "source": [
    "# Check the name of the columns \n",
    "df_Titanic_Dataset.columns"
   ]
  },
  {
   "cell_type": "markdown",
   "id": "d4baa386-665a-4a8b-a829-7d2b122cd4b6",
   "metadata": {},
   "source": [
    "**Interpretation**\n",
    " - After looking at the columns i conclude that there is no need to rename the columns."
   ]
  },
  {
   "cell_type": "code",
   "execution_count": 10,
   "id": "6f7b3b5e-967c-4a76-b452-37d2b97a1223",
   "metadata": {},
   "outputs": [],
   "source": [
    "# Drop irrelevant columns (PassengerId, Name, Ticket, etc.)\n",
    "df_Titanic_Dataset.drop(columns=['PassengerId', 'Name', 'Ticket'], inplace=True)"
   ]
  },
  {
   "cell_type": "code",
   "execution_count": 11,
   "id": "29b358a2-d521-4745-86ea-b66dc5f6e17c",
   "metadata": {},
   "outputs": [
    {
     "data": {
      "text/html": [
       "<div>\n",
       "<style scoped>\n",
       "    .dataframe tbody tr th:only-of-type {\n",
       "        vertical-align: middle;\n",
       "    }\n",
       "\n",
       "    .dataframe tbody tr th {\n",
       "        vertical-align: top;\n",
       "    }\n",
       "\n",
       "    .dataframe thead th {\n",
       "        text-align: right;\n",
       "    }\n",
       "</style>\n",
       "<table border=\"1\" class=\"dataframe\">\n",
       "  <thead>\n",
       "    <tr style=\"text-align: right;\">\n",
       "      <th></th>\n",
       "      <th>Survived</th>\n",
       "      <th>Pclass</th>\n",
       "      <th>Sex</th>\n",
       "      <th>Age</th>\n",
       "      <th>SibSp</th>\n",
       "      <th>Parch</th>\n",
       "      <th>Fare</th>\n",
       "      <th>Cabin</th>\n",
       "      <th>Embarked</th>\n",
       "    </tr>\n",
       "  </thead>\n",
       "  <tbody>\n",
       "    <tr>\n",
       "      <th>0</th>\n",
       "      <td>0</td>\n",
       "      <td>3</td>\n",
       "      <td>male</td>\n",
       "      <td>22.0</td>\n",
       "      <td>1</td>\n",
       "      <td>0</td>\n",
       "      <td>7.2500</td>\n",
       "      <td>NaN</td>\n",
       "      <td>S</td>\n",
       "    </tr>\n",
       "    <tr>\n",
       "      <th>1</th>\n",
       "      <td>1</td>\n",
       "      <td>1</td>\n",
       "      <td>female</td>\n",
       "      <td>38.0</td>\n",
       "      <td>1</td>\n",
       "      <td>0</td>\n",
       "      <td>71.2833</td>\n",
       "      <td>C85</td>\n",
       "      <td>C</td>\n",
       "    </tr>\n",
       "    <tr>\n",
       "      <th>2</th>\n",
       "      <td>1</td>\n",
       "      <td>3</td>\n",
       "      <td>female</td>\n",
       "      <td>26.0</td>\n",
       "      <td>0</td>\n",
       "      <td>0</td>\n",
       "      <td>7.9250</td>\n",
       "      <td>NaN</td>\n",
       "      <td>S</td>\n",
       "    </tr>\n",
       "    <tr>\n",
       "      <th>3</th>\n",
       "      <td>1</td>\n",
       "      <td>1</td>\n",
       "      <td>female</td>\n",
       "      <td>35.0</td>\n",
       "      <td>1</td>\n",
       "      <td>0</td>\n",
       "      <td>53.1000</td>\n",
       "      <td>C123</td>\n",
       "      <td>S</td>\n",
       "    </tr>\n",
       "    <tr>\n",
       "      <th>4</th>\n",
       "      <td>0</td>\n",
       "      <td>3</td>\n",
       "      <td>male</td>\n",
       "      <td>35.0</td>\n",
       "      <td>0</td>\n",
       "      <td>0</td>\n",
       "      <td>8.0500</td>\n",
       "      <td>NaN</td>\n",
       "      <td>S</td>\n",
       "    </tr>\n",
       "  </tbody>\n",
       "</table>\n",
       "</div>"
      ],
      "text/plain": [
       "   Survived  Pclass     Sex   Age  SibSp  Parch     Fare Cabin Embarked\n",
       "0         0       3    male  22.0      1      0   7.2500   NaN        S\n",
       "1         1       1  female  38.0      1      0  71.2833   C85        C\n",
       "2         1       3  female  26.0      0      0   7.9250   NaN        S\n",
       "3         1       1  female  35.0      1      0  53.1000  C123        S\n",
       "4         0       3    male  35.0      0      0   8.0500   NaN        S"
      ]
     },
     "execution_count": 11,
     "metadata": {},
     "output_type": "execute_result"
    }
   ],
   "source": [
    "# Check the format of columns \n",
    "df_Titanic_Dataset.head()"
   ]
  },
  {
   "cell_type": "markdown",
   "id": "1e2700cf-d66a-4c75-bd99-a1e2a8776b79",
   "metadata": {},
   "source": [
    "### Null Value Handling"
   ]
  },
  {
   "cell_type": "markdown",
   "id": "56fb0d4b-92bf-4db6-b665-82b49bb77fc0",
   "metadata": {},
   "source": [
    "### 🧹 Null Value Handling Strategy\n",
    "\n",
    "In our dataset, we may encounter two types of null values:\n",
    "\n",
    "- **Valid Null Values**: Represented as `NaN`, empty strings, etc.\n",
    "- **Invalid Null Values**: Represented by placeholders like `@`, `#`, `na`, `-`, `...` — these should be converted to `NaN` first.\n",
    "\n",
    "We follow certain industry-inspired rules (Manufacturing Laws) to handle missing data:\n",
    "\n",
    "---\n",
    "\n",
    "#### 📏 **Manufacturing Laws for Handling Nulls**\n",
    "\n",
    "- **Law No. 1**:  \n",
    "  If **null percentage < 15%**, **remove the rows** (observations).\n",
    "\n",
    "- **Law No. 2**:  \n",
    "  If **null percentage is between 20% and 70%**, **impute** the missing values.\n",
    "\n",
    "- **Law No. 3**:  \n",
    "  If **null percentage > 75%**, **drop the columns** (attributes).\n",
    "\n",
    "---\n",
    "\n",
    "#### 🧠 **Imputation Techniques**\n",
    "\n",
    "- For **numerical columns**:  \n",
    "  Replace missing values with the **mean** of the column.\n",
    "\n",
    "- For **categorical columns**:  \n",
    "  Replace missing values with the **mode** (most frequent category) of the column.\n"
   ]
  },
  {
   "cell_type": "code",
   "execution_count": 12,
   "id": "3543595d-ed32-4580-ad45-86684886da7d",
   "metadata": {},
   "outputs": [
    {
     "data": {
      "text/plain": [
       "Survived      0\n",
       "Pclass        0\n",
       "Sex           0\n",
       "Age         177\n",
       "SibSp         0\n",
       "Parch         0\n",
       "Fare          0\n",
       "Cabin       687\n",
       "Embarked      2\n",
       "dtype: int64"
      ]
     },
     "execution_count": 12,
     "metadata": {},
     "output_type": "execute_result"
    }
   ],
   "source": [
    "# Check the count null record\n",
    "df_Titanic_Dataset.isnull().sum()"
   ]
  },
  {
   "cell_type": "markdown",
   "id": "a708d9ce-d867-41a1-8048-c81a55eb16f2",
   "metadata": {},
   "source": [
    "**Interpretation**\n",
    " - After observation we conclude that there is some null record are present so we treat it."
   ]
  },
  {
   "cell_type": "code",
   "execution_count": 13,
   "id": "f1417761-4a0c-446d-a2e6-5210a36937dd",
   "metadata": {},
   "outputs": [],
   "source": [
    "# Fill missing Age with median\n",
    "df_Titanic_Dataset['Age'] = df_Titanic_Dataset['Age'].fillna(df_Titanic_Dataset['Age'].median())\n",
    "# Fill missing Embarked with mode\n",
    "df_Titanic_Dataset['Embarked'] = df_Titanic_Dataset['Embarked'].fillna(df_Titanic_Dataset['Embarked'].mode()[0])"
   ]
  },
  {
   "cell_type": "code",
   "execution_count": 14,
   "id": "1b0c833d-abdb-4d3e-98a8-0933b7d6d357",
   "metadata": {},
   "outputs": [
    {
     "data": {
      "text/plain": [
       "Survived      0\n",
       "Pclass        0\n",
       "Sex           0\n",
       "Age           0\n",
       "SibSp         0\n",
       "Parch         0\n",
       "Fare          0\n",
       "Cabin       687\n",
       "Embarked      0\n",
       "dtype: int64"
      ]
     },
     "execution_count": 14,
     "metadata": {},
     "output_type": "execute_result"
    }
   ],
   "source": [
    "df_Titanic_Dataset.isnull().sum()"
   ]
  },
  {
   "cell_type": "markdown",
   "id": "d860241f-6b32-48b7-89c3-e85cd3deb35f",
   "metadata": {},
   "source": [
    "**Interpretation**\n",
    " - After observation we conclude that there we treated Age and Embarked now we remove cabin column for treating null handling because it contain more than 70%."
   ]
  },
  {
   "cell_type": "code",
   "execution_count": 15,
   "id": "e49d5076-364b-4dfb-825c-bc4d06988d9c",
   "metadata": {},
   "outputs": [
    {
     "data": {
      "text/plain": [
       "Survived     0.000000\n",
       "Pclass       0.000000\n",
       "Sex          0.000000\n",
       "Age          0.000000\n",
       "SibSp        0.000000\n",
       "Parch        0.000000\n",
       "Fare         0.000000\n",
       "Cabin       77.104377\n",
       "Embarked     0.000000\n",
       "dtype: float64"
      ]
     },
     "execution_count": 15,
     "metadata": {},
     "output_type": "execute_result"
    }
   ],
   "source": [
    "# Find the %ge for null records\n",
    "# Notes we have to find %ge of null records because the laws we have handlin the null values depends on %ge.\n",
    "df_Titanic_Dataset.isnull().sum()/len(df_Titanic_Dataset)*100"
   ]
  },
  {
   "cell_type": "code",
   "execution_count": 16,
   "id": "67fc3696-2eea-4275-bf5e-4ab5ee74a189",
   "metadata": {},
   "outputs": [],
   "source": [
    "# Drop Cabin column\n",
    "df_Titanic_Dataset.drop(columns=['Cabin'], inplace=True)"
   ]
  },
  {
   "cell_type": "code",
   "execution_count": 17,
   "id": "70ee07b3-7e2f-49f7-a844-31574c4ea66b",
   "metadata": {},
   "outputs": [
    {
     "data": {
      "text/plain": [
       "Survived    0\n",
       "Pclass      0\n",
       "Sex         0\n",
       "Age         0\n",
       "SibSp       0\n",
       "Parch       0\n",
       "Fare        0\n",
       "Embarked    0\n",
       "dtype: int64"
      ]
     },
     "execution_count": 17,
     "metadata": {},
     "output_type": "execute_result"
    }
   ],
   "source": [
    "#### now check that cabin column is remove or not.\n",
    "df_Titanic_Dataset.isnull().sum()"
   ]
  },
  {
   "cell_type": "markdown",
   "id": "fee3e114-a559-4d53-8cce-b800ce937dd2",
   "metadata": {},
   "source": [
    "### Outlier Treatment "
   ]
  },
  {
   "cell_type": "code",
   "execution_count": 18,
   "id": "a071e451-d0fe-499d-a30f-dc309a333fdb",
   "metadata": {},
   "outputs": [
    {
     "data": {
      "image/png": "[encoded data removed]",
      "text/plain": [
       "<Figure size 1200x400 with 2 Axes>"
      ]
     },
     "metadata": {},
     "output_type": "display_data"
    },
    {
     "data": {
      "text/html": [
       "<div>\n",
       "<style scoped>\n",
       "    .dataframe tbody tr th:only-of-type {\n",
       "        vertical-align: middle;\n",
       "    }\n",
       "\n",
       "    .dataframe tbody tr th {\n",
       "        vertical-align: top;\n",
       "    }\n",
       "\n",
       "    .dataframe thead th {\n",
       "        text-align: right;\n",
       "    }\n",
       "</style>\n",
       "<table border=\"1\" class=\"dataframe\">\n",
       "  <thead>\n",
       "    <tr style=\"text-align: right;\">\n",
       "      <th></th>\n",
       "      <th>Survived</th>\n",
       "      <th>Pclass</th>\n",
       "      <th>Sex</th>\n",
       "      <th>Age</th>\n",
       "      <th>SibSp</th>\n",
       "      <th>Parch</th>\n",
       "      <th>Fare</th>\n",
       "      <th>Embarked</th>\n",
       "    </tr>\n",
       "  </thead>\n",
       "  <tbody>\n",
       "    <tr>\n",
       "      <th>0</th>\n",
       "      <td>0</td>\n",
       "      <td>3</td>\n",
       "      <td>male</td>\n",
       "      <td>22.0</td>\n",
       "      <td>1</td>\n",
       "      <td>0</td>\n",
       "      <td>7.250000</td>\n",
       "      <td>S</td>\n",
       "    </tr>\n",
       "    <tr>\n",
       "      <th>1</th>\n",
       "      <td>1</td>\n",
       "      <td>1</td>\n",
       "      <td>female</td>\n",
       "      <td>38.0</td>\n",
       "      <td>1</td>\n",
       "      <td>0</td>\n",
       "      <td>32.204208</td>\n",
       "      <td>C</td>\n",
       "    </tr>\n",
       "    <tr>\n",
       "      <th>2</th>\n",
       "      <td>1</td>\n",
       "      <td>3</td>\n",
       "      <td>female</td>\n",
       "      <td>26.0</td>\n",
       "      <td>0</td>\n",
       "      <td>0</td>\n",
       "      <td>7.925000</td>\n",
       "      <td>S</td>\n",
       "    </tr>\n",
       "    <tr>\n",
       "      <th>3</th>\n",
       "      <td>1</td>\n",
       "      <td>1</td>\n",
       "      <td>female</td>\n",
       "      <td>35.0</td>\n",
       "      <td>1</td>\n",
       "      <td>0</td>\n",
       "      <td>53.100000</td>\n",
       "      <td>S</td>\n",
       "    </tr>\n",
       "    <tr>\n",
       "      <th>4</th>\n",
       "      <td>0</td>\n",
       "      <td>3</td>\n",
       "      <td>male</td>\n",
       "      <td>35.0</td>\n",
       "      <td>0</td>\n",
       "      <td>0</td>\n",
       "      <td>8.050000</td>\n",
       "      <td>S</td>\n",
       "    </tr>\n",
       "  </tbody>\n",
       "</table>\n",
       "</div>"
      ],
      "text/plain": [
       "   Survived  Pclass     Sex   Age  SibSp  Parch       Fare Embarked\n",
       "0         0       3    male  22.0      1      0   7.250000        S\n",
       "1         1       1  female  38.0      1      0  32.204208        C\n",
       "2         1       3  female  26.0      0      0   7.925000        S\n",
       "3         1       1  female  35.0      1      0  53.100000        S\n",
       "4         0       3    male  35.0      0      0   8.050000        S"
      ]
     },
     "execution_count": 18,
     "metadata": {},
     "output_type": "execute_result"
    }
   ],
   "source": [
    "# Visualize with boxplots\n",
    "fig, axs = plt.subplots(1, 2, figsize=(12, 4))\n",
    "sns.boxplot(y=df_Titanic_Dataset['Age'], ax=axs[0])\n",
    "axs[0].set_title('Age - Boxplot')\n",
    "sns.boxplot(y=df_Titanic_Dataset['Fare'], ax=axs[1])\n",
    "axs[1].set_title('Fare - Boxplot')\n",
    "plt.tight_layout()\n",
    "plt.show()\n",
    "\n",
    "# Treat outliers using IQR\n",
    "def treat_outliers(col):\n",
    "    Q1 = df_Titanic_Dataset[col].quantile(0.25)\n",
    "    Q3 = df_Titanic_Dataset[col].quantile(0.75)\n",
    "    IQR = Q3 - Q1\n",
    "    lower = Q1 - 1.5 * IQR\n",
    "    upper = Q3 + 1.5 * IQR\n",
    "    mean_val = df_Titanic_Dataset[col].mean()\n",
    "    df_Titanic_Dataset.loc[(df_Titanic_Dataset[col] < lower) | (df_Titanic_Dataset[col] > upper), col] = mean_val\n",
    "\n",
    "treat_outliers('Age')\n",
    "treat_outliers('Fare')\n",
    "\n",
    "df_Titanic_Dataset.head()\n"
   ]
  },
  {
   "cell_type": "markdown",
   "id": "b3bef323-5679-4028-a2d0-ed83e7e78b38",
   "metadata": {},
   "source": [
    "✅ Outliers in Age and Fare have been treated using the IQR method — values beyond 1.5×IQR were replaced with the column mean. The boxplots confirmed the presence of outliers, and now df_Titanic_Dataset is updated with cleaned values."
   ]
  },
  {
   "cell_type": "markdown",
   "id": "5b5eef2c-9bfd-4291-bf2e-243bdb3bc5cc",
   "metadata": {},
   "source": [
    "#### Encode Categorical Variables"
   ]
  },
  {
   "cell_type": "code",
   "execution_count": 19,
   "id": "040444a6-63d5-47f1-a6b4-f9f96b209cb1",
   "metadata": {},
   "outputs": [],
   "source": [
    "# One-hot encode 'Sex' and 'Embarked'\n",
    "df_Titanic_Dataset = pd.get_dummies(df_Titanic_Dataset, columns=['Sex', 'Embarked'], drop_first=True)\n"
   ]
  },
  {
   "cell_type": "code",
   "execution_count": 20,
   "id": "d0ee539f-e6df-49ff-9ce7-a8117e551acb",
   "metadata": {},
   "outputs": [
    {
     "data": {
      "text/html": [
       "<div>\n",
       "<style scoped>\n",
       "    .dataframe tbody tr th:only-of-type {\n",
       "        vertical-align: middle;\n",
       "    }\n",
       "\n",
       "    .dataframe tbody tr th {\n",
       "        vertical-align: top;\n",
       "    }\n",
       "\n",
       "    .dataframe thead th {\n",
       "        text-align: right;\n",
       "    }\n",
       "</style>\n",
       "<table border=\"1\" class=\"dataframe\">\n",
       "  <thead>\n",
       "    <tr style=\"text-align: right;\">\n",
       "      <th></th>\n",
       "      <th>Survived</th>\n",
       "      <th>Pclass</th>\n",
       "      <th>Age</th>\n",
       "      <th>SibSp</th>\n",
       "      <th>Parch</th>\n",
       "      <th>Fare</th>\n",
       "      <th>Sex_male</th>\n",
       "      <th>Embarked_Q</th>\n",
       "      <th>Embarked_S</th>\n",
       "    </tr>\n",
       "  </thead>\n",
       "  <tbody>\n",
       "    <tr>\n",
       "      <th>0</th>\n",
       "      <td>0</td>\n",
       "      <td>3</td>\n",
       "      <td>22.0</td>\n",
       "      <td>1</td>\n",
       "      <td>0</td>\n",
       "      <td>7.250000</td>\n",
       "      <td>True</td>\n",
       "      <td>False</td>\n",
       "      <td>True</td>\n",
       "    </tr>\n",
       "    <tr>\n",
       "      <th>1</th>\n",
       "      <td>1</td>\n",
       "      <td>1</td>\n",
       "      <td>38.0</td>\n",
       "      <td>1</td>\n",
       "      <td>0</td>\n",
       "      <td>32.204208</td>\n",
       "      <td>False</td>\n",
       "      <td>False</td>\n",
       "      <td>False</td>\n",
       "    </tr>\n",
       "    <tr>\n",
       "      <th>2</th>\n",
       "      <td>1</td>\n",
       "      <td>3</td>\n",
       "      <td>26.0</td>\n",
       "      <td>0</td>\n",
       "      <td>0</td>\n",
       "      <td>7.925000</td>\n",
       "      <td>False</td>\n",
       "      <td>False</td>\n",
       "      <td>True</td>\n",
       "    </tr>\n",
       "    <tr>\n",
       "      <th>3</th>\n",
       "      <td>1</td>\n",
       "      <td>1</td>\n",
       "      <td>35.0</td>\n",
       "      <td>1</td>\n",
       "      <td>0</td>\n",
       "      <td>53.100000</td>\n",
       "      <td>False</td>\n",
       "      <td>False</td>\n",
       "      <td>True</td>\n",
       "    </tr>\n",
       "    <tr>\n",
       "      <th>4</th>\n",
       "      <td>0</td>\n",
       "      <td>3</td>\n",
       "      <td>35.0</td>\n",
       "      <td>0</td>\n",
       "      <td>0</td>\n",
       "      <td>8.050000</td>\n",
       "      <td>True</td>\n",
       "      <td>False</td>\n",
       "      <td>True</td>\n",
       "    </tr>\n",
       "  </tbody>\n",
       "</table>\n",
       "</div>"
      ],
      "text/plain": [
       "   Survived  Pclass   Age  SibSp  Parch       Fare  Sex_male  Embarked_Q  \\\n",
       "0         0       3  22.0      1      0   7.250000      True       False   \n",
       "1         1       1  38.0      1      0  32.204208     False       False   \n",
       "2         1       3  26.0      0      0   7.925000     False       False   \n",
       "3         1       1  35.0      1      0  53.100000     False       False   \n",
       "4         0       3  35.0      0      0   8.050000      True       False   \n",
       "\n",
       "   Embarked_S  \n",
       "0        True  \n",
       "1       False  \n",
       "2        True  \n",
       "3        True  \n",
       "4        True  "
      ]
     },
     "execution_count": 20,
     "metadata": {},
     "output_type": "execute_result"
    }
   ],
   "source": [
    "df_Titanic_Dataset.head()\n"
   ]
  },
  {
   "cell_type": "markdown",
   "id": "d1bc50ea-686b-4de1-a037-68da24056c3c",
   "metadata": {},
   "source": [
    "#### Normalize/Standardize Numerical Features"
   ]
  },
  {
   "cell_type": "code",
   "execution_count": 21,
   "id": "34b640e4-34a1-4411-8b23-bae9bb3a3159",
   "metadata": {},
   "outputs": [],
   "source": [
    "from sklearn.preprocessing import StandardScaler\n",
    "\n",
    "scaler = StandardScaler()\n",
    "df_Titanic_Dataset[[ 'Fare']] = scaler.fit_transform(df_Titanic_Dataset[['Fare']])\n"
   ]
  },
  {
   "cell_type": "markdown",
   "id": "6070f1b2-d9c2-4d0f-be81-cfc09c78bd90",
   "metadata": {},
   "source": [
    "### ✅ Final Cleaned Dataset"
   ]
  },
  {
   "cell_type": "code",
   "execution_count": 22,
   "id": "2c240894-451d-47c2-9593-ce0cfa45aac4",
   "metadata": {},
   "outputs": [
    {
     "data": {
      "text/html": [
       "<div>\n",
       "<style scoped>\n",
       "    .dataframe tbody tr th:only-of-type {\n",
       "        vertical-align: middle;\n",
       "    }\n",
       "\n",
       "    .dataframe tbody tr th {\n",
       "        vertical-align: top;\n",
       "    }\n",
       "\n",
       "    .dataframe thead th {\n",
       "        text-align: right;\n",
       "    }\n",
       "</style>\n",
       "<table border=\"1\" class=\"dataframe\">\n",
       "  <thead>\n",
       "    <tr style=\"text-align: right;\">\n",
       "      <th></th>\n",
       "      <th>Survived</th>\n",
       "      <th>Pclass</th>\n",
       "      <th>Age</th>\n",
       "      <th>SibSp</th>\n",
       "      <th>Parch</th>\n",
       "      <th>Fare</th>\n",
       "      <th>Sex_male</th>\n",
       "      <th>Embarked_Q</th>\n",
       "      <th>Embarked_S</th>\n",
       "    </tr>\n",
       "  </thead>\n",
       "  <tbody>\n",
       "    <tr>\n",
       "      <th>0</th>\n",
       "      <td>0</td>\n",
       "      <td>3</td>\n",
       "      <td>22.0</td>\n",
       "      <td>1</td>\n",
       "      <td>0</td>\n",
       "      <td>-0.918474</td>\n",
       "      <td>True</td>\n",
       "      <td>False</td>\n",
       "      <td>True</td>\n",
       "    </tr>\n",
       "    <tr>\n",
       "      <th>1</th>\n",
       "      <td>1</td>\n",
       "      <td>1</td>\n",
       "      <td>38.0</td>\n",
       "      <td>1</td>\n",
       "      <td>0</td>\n",
       "      <td>0.923286</td>\n",
       "      <td>False</td>\n",
       "      <td>False</td>\n",
       "      <td>False</td>\n",
       "    </tr>\n",
       "    <tr>\n",
       "      <th>2</th>\n",
       "      <td>1</td>\n",
       "      <td>3</td>\n",
       "      <td>26.0</td>\n",
       "      <td>0</td>\n",
       "      <td>0</td>\n",
       "      <td>-0.868656</td>\n",
       "      <td>False</td>\n",
       "      <td>False</td>\n",
       "      <td>True</td>\n",
       "    </tr>\n",
       "    <tr>\n",
       "      <th>3</th>\n",
       "      <td>1</td>\n",
       "      <td>1</td>\n",
       "      <td>35.0</td>\n",
       "      <td>1</td>\n",
       "      <td>0</td>\n",
       "      <td>2.465512</td>\n",
       "      <td>False</td>\n",
       "      <td>False</td>\n",
       "      <td>True</td>\n",
       "    </tr>\n",
       "    <tr>\n",
       "      <th>4</th>\n",
       "      <td>0</td>\n",
       "      <td>3</td>\n",
       "      <td>35.0</td>\n",
       "      <td>0</td>\n",
       "      <td>0</td>\n",
       "      <td>-0.859430</td>\n",
       "      <td>True</td>\n",
       "      <td>False</td>\n",
       "      <td>True</td>\n",
       "    </tr>\n",
       "  </tbody>\n",
       "</table>\n",
       "</div>"
      ],
      "text/plain": [
       "   Survived  Pclass   Age  SibSp  Parch      Fare  Sex_male  Embarked_Q  \\\n",
       "0         0       3  22.0      1      0 -0.918474      True       False   \n",
       "1         1       1  38.0      1      0  0.923286     False       False   \n",
       "2         1       3  26.0      0      0 -0.868656     False       False   \n",
       "3         1       1  35.0      1      0  2.465512     False       False   \n",
       "4         0       3  35.0      0      0 -0.859430      True       False   \n",
       "\n",
       "   Embarked_S  \n",
       "0        True  \n",
       "1       False  \n",
       "2        True  \n",
       "3        True  \n",
       "4        True  "
      ]
     },
     "execution_count": 22,
     "metadata": {},
     "output_type": "execute_result"
    }
   ],
   "source": [
    "df_Titanic_Dataset.head()\n"
   ]
  },
  {
   "cell_type": "markdown",
   "id": "12f1162e-536a-49e3-9fbc-2b674bdb3dd2",
   "metadata": {},
   "source": [
    "### Convert True/False to 0/1 "
   ]
  },
  {
   "cell_type": "code",
   "execution_count": 23,
   "id": "53c62e18-129c-45cd-99ee-e06d97b09edf",
   "metadata": {},
   "outputs": [],
   "source": [
    "df_Titanic_Dataset['Sex_male'] = df_Titanic_Dataset['Sex_male'].astype(int)\n",
    "df_Titanic_Dataset['Embarked_Q'] = df_Titanic_Dataset['Embarked_Q'].astype(int)\n",
    "df_Titanic_Dataset['Embarked_S'] = df_Titanic_Dataset['Embarked_S'].astype(int)"
   ]
  },
  {
   "cell_type": "markdown",
   "id": "cd02bb7c-5278-4611-a3e1-c44320d6b958",
   "metadata": {},
   "source": [
    "#### Class balance check (for Survived)"
   ]
  },
  {
   "cell_type": "code",
   "execution_count": 24,
   "id": "fd112ea5-c7ea-4029-84e9-147e859727cf",
   "metadata": {},
   "outputs": [
    {
     "data": {
      "text/plain": [
       "Survived\n",
       "0    0.616162\n",
       "1    0.383838\n",
       "Name: proportion, dtype: float64"
      ]
     },
     "execution_count": 24,
     "metadata": {},
     "output_type": "execute_result"
    }
   ],
   "source": [
    "df_Titanic_Dataset['Survived'].value_counts(normalize=True)"
   ]
  },
  {
   "cell_type": "markdown",
   "id": "60cd1103-bdf0-43b0-8117-4ce7ad6b59c4",
   "metadata": {},
   "source": [
    "**Interpretation**\n",
    " - Ensure that the target variable is not heavily imbalanced"
   ]
  },
  {
   "cell_type": "markdown",
   "id": "b17ce18b-0f2d-479f-a6d7-97119cc26f9b",
   "metadata": {},
   "source": [
    "*Feature correlation check (EDA)*\n",
    " - We use df.corr() or heatmap to find if some features are irrelevant or strongly correlated."
   ]
  },
  {
   "cell_type": "code",
   "execution_count": 25,
   "id": "9db9456a-7c01-4424-96f2-0fb66721a7ab",
   "metadata": {},
   "outputs": [
    {
     "data": {
      "image/png": "[encoded data removed]",
      "text/plain": [
       "<Figure size 1000x600 with 2 Axes>"
      ]
     },
     "metadata": {},
     "output_type": "display_data"
    }
   ],
   "source": [
    "# Compute correlation matrix\n",
    "corr_matrix = df_Titanic_Dataset.corr(numeric_only=True)\n",
    "\n",
    "# Plot heatmap\n",
    "plt.figure(figsize=(10, 6))\n",
    "sns.heatmap(corr_matrix, annot=True, cmap='coolwarm', fmt='.2f', linewidths=0.5)\n",
    "plt.title('Feature Correlation Heatmap')\n",
    "plt.show()"
   ]
  },
  {
   "cell_type": "markdown",
   "id": "bb178f61-2d44-42d3-b8e3-47fcebe97915",
   "metadata": {},
   "source": [
    "### feature correlation heatmap\n",
    " - 'Pclass' and 'Fare' are moderately negatively correlated (-0.64), suggesting lower class passengers paid less fare.\n",
    " - 'Parch' and 'SibSp' are positively correlated (0.41), as they both represent family relationships.\n",
    " - 'Fare' has some correlation (0.28) with 'Survived', implying higher fare passengers were more likely to survive.\n",
    " - 'Age', 'SibSp', and 'Parch' have weak correlation with 'Survived', so they might still provide useful predictive signals.\n",
    " - 'PassengerId' has no meaningful correlation and can be dropped from the model."
   ]
  },
  {
   "cell_type": "code",
   "execution_count": null,
   "id": "0236671b-f433-432f-b579-f7e4c99ed892",
   "metadata": {},
   "outputs": [],
   "source": []
  }
 ],
 "metadata": {
  "kernelspec": {
   "display_name": "Python 3 (ipykernel)",
   "language": "python",
   "name": "python3"
  },
  "language_info": {
   "codemirror_mode": {
    "name": "ipython",
    "version": 3
   },
   "file_extension": ".py",
   "mimetype": "text/x-python",
   "name": "python",
   "nbconvert_exporter": "python",
   "pygments_lexer": "ipython3",
   "version": "3.13.5"
  }
 },
 "nbformat": 4,
 "nbformat_minor": 5
}
